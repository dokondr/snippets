{
 "cells": [
  {
   "cell_type": "raw",
   "metadata": {},
   "source": [
    "Given an array of integers, return indices of the two numbers such that they add up to a specific target.\n",
    "\n",
    "You may assume that each input would have exactly one solution, and you may not use the same element twice.\n",
    "\n",
    "Example:\n",
    "\n",
    "Given nums = [2, 7, 11, 15], target = 9,\n",
    "\n",
    "Because nums[0] + nums[1] = 2 + 7 = 9,\n",
    "return [0, 1].\n",
    "\n"
   ]
  },
  {
   "cell_type": "code",
   "execution_count": 1,
   "metadata": {},
   "outputs": [],
   "source": [
    "#class Solution:\n",
    "#    def twoSum(self, nums: List[int], target: int) -> List[int]:\n",
    "class Solution(object):\n",
    "    def fun(self, idx, ls, target, result):\n",
    "        #print(\"input: idx, ls, target, result\", idx, ls, target, result)\n",
    "        if len(ls) !=0 and len(result) < 2:\n",
    "            x = ls[0]\n",
    "            ys = ls[1:]\n",
    "            y = target -x\n",
    "            #print(\"x: {}, ys: {}, y: {}\".format(x,ys,y) )\n",
    "            if y in ys: \n",
    "                result.append(idx)\n",
    "                y_idx = ys.index(y)+idx+1                \n",
    "                result.append(y_idx)\n",
    "                #print(\"add result: \",y, y_idx)\n",
    "                \n",
    "            #print(\"x, ys: \",x, ys)\n",
    "            return self.fun(idx+1, ys, target, result)\n",
    "        else:\n",
    "            #print(\"result: \", result)\n",
    "            return result\n",
    "        \n",
    "    def twoSum(self, nums, target):\n",
    "        \"\"\"\n",
    "        :type nums: List[int]\n",
    "        :type target: int\n",
    "        :rtype: List[int]\n",
    "        \"\"\"\n",
    "        # Numbers in array greater then target will give sum greater then target.\n",
    "        # Sort array and get rid of useless numbers\n",
    "        #nums = sorted(nums, reverse=True)\n",
    "        #xs = [x for x in nums if x <= target]\n",
    "        return self.fun(0, nums, target, [])\n"
   ]
  },
  {
   "cell_type": "code",
   "execution_count": 2,
   "metadata": {},
   "outputs": [
    {
     "name": "stdout",
     "output_type": "stream",
     "text": [
      "nums: [3, 3] target: 6 result: [0, 1]\n",
      "nums: [2, 7, 11, 15] target: 9 result: [0, 1]\n",
      "nums: [0, 4, 3, 0] target: 0 result: [0, 3]\n"
     ]
    }
   ],
   "source": [
    "\n",
    "nums_lst = [[3,3],\n",
    "            [2,7,11,15],\n",
    "            [0,4,3,0]\n",
    "]\n",
    "targets_lst = [6,9,0]\n",
    "tests = zip(nums_lst, targets_lst)\n",
    "for nums, target in tests:\n",
    "    result = Solution().twoSum(nums, target)\n",
    "    print(\"nums: {} target: {} result: {}\".format(nums,target, result))\n",
    "\n"
   ]
  }
 ],
 "metadata": {
  "kernelspec": {
   "display_name": "Python 3",
   "language": "python",
   "name": "python3"
  },
  "language_info": {
   "codemirror_mode": {
    "name": "ipython",
    "version": 3
   },
   "file_extension": ".py",
   "mimetype": "text/x-python",
   "name": "python",
   "nbconvert_exporter": "python",
   "pygments_lexer": "ipython3",
   "version": "3.7.6"
  }
 },
 "nbformat": 4,
 "nbformat_minor": 4
}
