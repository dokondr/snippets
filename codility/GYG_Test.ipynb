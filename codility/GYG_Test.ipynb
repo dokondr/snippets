{
 "cells": [
  {
   "cell_type": "code",
   "execution_count": 12,
   "metadata": {},
   "outputs": [],
   "source": [
    "import numpy as np\n",
    "from math import factorial as fac"
   ]
  },
  {
   "cell_type": "code",
   "execution_count": 13,
   "metadata": {},
   "outputs": [
    {
     "data": {
      "text/plain": [
       "6"
      ]
     },
     "execution_count": 13,
     "metadata": {},
     "output_type": "execute_result"
    }
   ],
   "source": [
    "fac(3)"
   ]
  },
  {
   "cell_type": "code",
   "execution_count": 17,
   "metadata": {},
   "outputs": [],
   "source": [
    "D = 500\n",
    "F = 499\n",
    "T = 5\n",
    "N = 5"
   ]
  },
  {
   "cell_type": "code",
   "execution_count": 18,
   "metadata": {},
   "outputs": [],
   "source": [
    "def fun1(D, F, T, N):\n",
    "    #return F / (D**(6*T))\n",
    "    #return np.exp(-2*T*F/D)* (2*T*F/D)**T / T\n",
    "    return 1 - (fac(D)/ (fac(F)*fac(D-F))) * (1/6)**T *(5/6)**(T-N)"
   ]
  },
  {
   "cell_type": "code",
   "execution_count": 19,
   "metadata": {},
   "outputs": [
    {
     "data": {
      "text/plain": [
       "0.9356995884773662"
      ]
     },
     "execution_count": 19,
     "metadata": {},
     "output_type": "execute_result"
    }
   ],
   "source": [
    "fun1(D,F,T,N)"
   ]
  },
  {
   "cell_type": "code",
   "execution_count": 40,
   "metadata": {},
   "outputs": [],
   "source": [
    "def fun2(D, M_0, M_D):\n",
    "    #return 2*(M_0)**(D+1) / sum(M_D)\n",
    "    #return 1/(D+1)*M_0 + (D / (D+1))*sum(M_D) + (D+1)\n",
    "    #return 2*(D+1)**2 * sum(M_D) / M_0\n",
    "    #return sum(list(map(lambda x: x**2, M_D))) / (2*M_0) - (M_0/2)\n",
    "    return 2*M_0**(D+1)/ sum(M_D)"
   ]
  },
  {
   "cell_type": "code",
   "execution_count": 41,
   "metadata": {},
   "outputs": [],
   "source": [
    "D = 2\n",
    "M_0 = 15\n",
    "M_D = [30,45]"
   ]
  },
  {
   "cell_type": "code",
   "execution_count": 42,
   "metadata": {},
   "outputs": [
    {
     "data": {
      "text/plain": [
       "90.0"
      ]
     },
     "execution_count": 42,
     "metadata": {},
     "output_type": "execute_result"
    }
   ],
   "source": [
    "fun2(D, M_0, M_D)"
   ]
  },
  {
   "cell_type": "code",
   "execution_count": 43,
   "metadata": {},
   "outputs": [
    {
     "data": {
      "text/plain": [
       "90.0"
      ]
     },
     "execution_count": 43,
     "metadata": {},
     "output_type": "execute_result"
    }
   ],
   "source": [
    "2*M_0**(D+1)/ sum(M_D)"
   ]
  },
  {
   "cell_type": "code",
   "execution_count": 45,
   "metadata": {},
   "outputs": [
    {
     "data": {
      "text/plain": [
       "array([22, 18, 44, 16, 23, 27])"
      ]
     },
     "execution_count": 45,
     "metadata": {},
     "output_type": "execute_result"
    }
   ],
   "source": [
    "np.random.randint(15, high=45, size=6)"
   ]
  },
  {
   "cell_type": "code",
   "execution_count": 46,
   "metadata": {},
   "outputs": [
    {
     "data": {
      "text/plain": [
       "0.7367473477714053"
      ]
     },
     "execution_count": 46,
     "metadata": {},
     "output_type": "execute_result"
    }
   ],
   "source": [
    "np.random.random()"
   ]
  },
  {
   "cell_type": "code",
   "execution_count": 49,
   "metadata": {},
   "outputs": [
    {
     "name": "stdout",
     "output_type": "stream",
     "text": [
      "[45, 30, 30, 30, 45, 15, 15, 30, 45, 15, 30, 45, 15, 30, 45, 30, 45, 15, 45, 15, 30, 30, 45]\n"
     ]
    }
   ],
   "source": [
    "rs = []\n",
    "data = [15,30,45]\n",
    "for i in range(20):\n",
    "    for x in data:\n",
    "        if np.random.random() > 0.5:\n",
    "            rs.append(x)\n",
    "            \n",
    "print(rs)\n",
    "    "
   ]
  },
  {
   "cell_type": "code",
   "execution_count": 64,
   "metadata": {},
   "outputs": [
    {
     "data": {
      "text/plain": [
       "(numpy.ndarray,\n",
       " array([30, 15, 45, 30, 30, 45, 30, 15, 15, 30, 30, 15, 45, 30, 30, 45, 15,\n",
       "        45, 45, 15, 45, 30, 45, 45, 45, 30, 30, 45, 30, 45, 15, 45, 30, 30,\n",
       "        45, 30, 45, 15, 30, 15, 30, 30, 15, 15, 45, 15, 30, 45, 45, 30]))"
      ]
     },
     "execution_count": 64,
     "metadata": {},
     "output_type": "execute_result"
    }
   ],
   "source": [
    "new_data = np.random.choice(data, 1000000)\n",
    "type(new_data), new_data[:50]"
   ]
  },
  {
   "cell_type": "code",
   "execution_count": 63,
   "metadata": {},
   "outputs": [
    {
     "data": {
      "text/plain": [
       "37.495935"
      ]
     },
     "execution_count": 63,
     "metadata": {},
     "output_type": "execute_result"
    }
   ],
   "source": [
    "new_data.mean()"
   ]
  },
  {
   "cell_type": "code",
   "execution_count": null,
   "metadata": {},
   "outputs": [],
   "source": []
  }
 ],
 "metadata": {
  "kernelspec": {
   "display_name": "Python 3",
   "language": "python",
   "name": "python3"
  },
  "language_info": {
   "codemirror_mode": {
    "name": "ipython",
    "version": 3
   },
   "file_extension": ".py",
   "mimetype": "text/x-python",
   "name": "python",
   "nbconvert_exporter": "python",
   "pygments_lexer": "ipython3",
   "version": "3.6.10"
  }
 },
 "nbformat": 4,
 "nbformat_minor": 2
}
