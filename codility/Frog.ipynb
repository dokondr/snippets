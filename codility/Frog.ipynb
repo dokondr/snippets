{
 "cells": [
  {
   "cell_type": "raw",
   "metadata": {},
   "source": [
    "A small frog wants to get to the other side of the road. \n",
    "The frog is currently located at position X and wants to get to a position greater than or equal to Y. \n",
    "The small frog always jumps a fixed distance, D.\n",
    "\n",
    "Count the minimal number of jumps that the small frog must perform to reach its target.\n",
    "\n",
    "Write a function:\n",
    "\n",
    "    def solution(X, Y, D)\n",
    "\n",
    "that, given three integers X, Y and D, returns the minimal number of \n",
    "jumps from position X to a position equal to or greater than Y.\n",
    "\n",
    "For example, given:\n",
    "  X = 10\n",
    "  Y = 85\n",
    "  D = 30\n",
    "\n",
    "the function should return 3, because the frog will be positioned as follows:\n",
    "\n",
    "        after the first jump, at position 10 + 30 = 40\n",
    "        after the second jump, at position 10 + 30 + 30 = 70\n",
    "        after the third jump, at position 10 + 30 + 30 + 30 = 100\n",
    "\n",
    "Write an efficient algorithm for the following assumptions:\n",
    "\n",
    "        X, Y and D are integers within the range [1..1,000,000,000];\n",
    "        X ≤ Y.\n",
    "\n"
   ]
  },
  {
   "cell_type": "code",
   "execution_count": 6,
   "metadata": {},
   "outputs": [
    {
     "data": {
      "text/plain": [
       "3"
      ]
     },
     "execution_count": 6,
     "metadata": {},
     "output_type": "execute_result"
    }
   ],
   "source": [
    "from math import ceil\n",
    "ceil(75 / 30)"
   ]
  },
  {
   "cell_type": "code",
   "execution_count": 19,
   "metadata": {},
   "outputs": [],
   "source": [
    "def solution(X, Y, D):\n",
    "    distance = Y - X\n",
    "    big_jumps = distance // D\n",
    "    print(big_jumps)\n",
    "    jumps = big_jumps\n",
    "    if  distance - big_jumps * D > 0:\n",
    "        jumps += 1\n",
    "    return jumps"
   ]
  },
  {
   "cell_type": "code",
   "execution_count": 20,
   "metadata": {},
   "outputs": [
    {
     "name": "stdout",
     "output_type": "stream",
     "text": [
      "2\n"
     ]
    },
    {
     "data": {
      "text/plain": [
       "2"
      ]
     },
     "execution_count": 20,
     "metadata": {},
     "output_type": "execute_result"
    }
   ],
   "source": [
    "solution(1, 5, 2)"
   ]
  },
  {
   "cell_type": "code",
   "execution_count": null,
   "metadata": {},
   "outputs": [],
   "source": []
  }
 ],
 "metadata": {
  "kernelspec": {
   "display_name": "Python 3",
   "language": "python",
   "name": "python3"
  },
  "language_info": {
   "codemirror_mode": {
    "name": "ipython",
    "version": 3
   },
   "file_extension": ".py",
   "mimetype": "text/x-python",
   "name": "python",
   "nbconvert_exporter": "python",
   "pygments_lexer": "ipython3",
   "version": "3.6.10"
  }
 },
 "nbformat": 4,
 "nbformat_minor": 2
}
